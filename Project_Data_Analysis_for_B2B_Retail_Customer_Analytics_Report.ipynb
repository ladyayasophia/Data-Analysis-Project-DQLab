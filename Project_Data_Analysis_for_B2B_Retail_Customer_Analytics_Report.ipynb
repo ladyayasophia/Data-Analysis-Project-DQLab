{
  "nbformat": 4,
  "nbformat_minor": 0,
  "metadata": {
    "colab": {
      "name": "Project Data Analysis for B2B Retail: Customer Analytics Report.ipynb",
      "private_outputs": true,
      "provenance": []
    },
    "kernelspec": {
      "name": "python3",
      "display_name": "Python 3"
    },
    "language_info": {
      "name": "python"
    }
  },
  "cells": [
    {
      "cell_type": "markdown",
      "metadata": {
        "id": "lRH05bLzrbxT"
      },
      "source": [
        "# [Memahami table](https://academy.dqlab.id/main/projectcode/246/418/2102?pr=null)"
      ]
    },
    {
      "cell_type": "code",
      "metadata": {
        "id": "Ug2UNbDtrMDB"
      },
      "source": [
        "SELECT * FROM orders_1 limit 5;\n",
        "SELECT * FROM orders_2 limit 5;\n",
        "SELECT * FROM customer limit 5;"
      ],
      "execution_count": null,
      "outputs": []
    },
    {
      "cell_type": "markdown",
      "metadata": {
        "id": "5dZ4Qt0Ns9nQ"
      },
      "source": [
        "# [Total Penjualan dan Revenue pada Quarter-1 (Jan, Feb, Mar) dan Quarter-2 (Apr,Mei,Jun)](https://academy.dqlab.id/main/projectcode/246/420/2103?pr=null)"
      ]
    },
    {
      "cell_type": "code",
      "metadata": {
        "id": "40ZevumNtFys"
      },
      "source": [
        "SELECT\n",
        "\tSUM(quantity) AS total_penjualan,\n",
        "\tSUM(quantity *priceEach) AS revenue\n",
        "FROM\n",
        "\torders_1\n",
        "WHERE\n",
        "\tstatus = 'Shipped';\n",
        "\n",
        "SELECT\n",
        "\tSUM(quantity) AS total_penjualan,\n",
        "\tSUM(quantity *priceEach) AS revenue\n",
        "FROM\n",
        "\torders_2\n",
        "WHERE\n",
        "\tstatus = 'Shipped';"
      ],
      "execution_count": null,
      "outputs": []
    },
    {
      "cell_type": "markdown",
      "metadata": {
        "id": "OdiMvIK0tGW5"
      },
      "source": [
        "# [Menghitung persentasi keseluruhan penjualan](https://academy.dqlab.id/main/projectcode/246/420/2104?pr=null)"
      ]
    },
    {
      "cell_type": "code",
      "metadata": {
        "id": "lswAh-mltPPD"
      },
      "source": [
        "SELECT \n",
        "\tquarter,\n",
        "\tSUM(quantity) AS total_penjualan,\n",
        "\tSUM(quantity*priceEach) AS revenue\n",
        "FROM\n",
        "\t\n",
        "\t(SELECT \n",
        "\t\torderNumber,\n",
        "\t\tstatus,\n",
        "\t\tquantity,\n",
        "\t\tpriceEach,\n",
        "\t\t'1' AS quarter\n",
        "\tFROM\n",
        "\t\torders_1\n",
        "\tUNION\n",
        "\tSELECT \n",
        "\t\torderNumber,\n",
        "\t\tstatus,\n",
        "\t\tquantity,\n",
        "\t\tpriceEach,\n",
        "\t\t'2' AS quarter\n",
        "\tFROM\n",
        "\t\torders_2 \n",
        "\t ) AS tabel_a\n",
        "\n",
        "WHERE\n",
        "\tstatus=\"Shipped\"\n",
        "GROUP BY quarter;\n",
        "#ORDER BY 1;"
      ],
      "execution_count": null,
      "outputs": []
    },
    {
      "cell_type": "markdown",
      "metadata": {
        "id": "jC8xGaB1tQPY"
      },
      "source": [
        "# [Apakah jumlah customers xyz.com semakin bertambah?](https://academy.dqlab.id/main/projectcode/246/421/2106?pr=null)"
      ]
    },
    {
      "cell_type": "code",
      "metadata": {
        "id": "Tz8Ks6yQta_x"
      },
      "source": [
        "SELECT \t\t\n",
        "\tquarter,\n",
        "\tCOUNT(DISTINCT customerID) AS total_customers\n",
        "FROM\n",
        "\t(SELECT\n",
        "\t \tcustomerID,\n",
        "\t \tcreateDate,\n",
        "\t \tQUARTER(createDate) AS quarter\n",
        "\tFROM\n",
        "\t \tcustomer\n",
        "\tWHERE\n",
        "\t\tcreateDate BETWEEN '2004-01-01' AND '2004-06-30'\n",
        "\t) AS tabel_b\n",
        "\n",
        "GROUP BY quarter;"
      ],
      "execution_count": null,
      "outputs": []
    },
    {
      "cell_type": "markdown",
      "metadata": {
        "id": "1TXI36hMtbsi"
      },
      "source": [
        "# [Seberapa banyak customers tersebut yang sudah melakukan transaksi?](https://academy.dqlab.id/main/projectcode/246/421/2107?pr=null)"
      ]
    },
    {
      "cell_type": "code",
      "metadata": {
        "id": "r7Nrd4WJtln6"
      },
      "source": [
        "SELECT \t\t\n",
        "\tquarter,\n",
        "\tCOUNT(DISTINCT customerID) AS total_customers\n",
        "FROM\n",
        "\t(SELECT\n",
        "\t \tcustomerID,\n",
        "\t \tcreateDate,\n",
        "\t \tQUARTER(createDate) AS quarter\n",
        "\tFROM\n",
        "\t \tcustomer\n",
        "\tWHERE\n",
        "\t\tcreateDate BETWEEN '2004-01-01' AND '2004-06-30'\n",
        "\t) AS tabel_b\n",
        "\n",
        "WHERE\n",
        "\tcustomerID IN\n",
        "\t(SELECT\n",
        "\t \tDISTINCT customerID\n",
        "\t FROM\n",
        "\t \torders_1\n",
        "\t UNION\n",
        "\t SELECT\n",
        "\t \tDISTINCT customerID\n",
        "\t FROM\n",
        "\t \torders_2\n",
        "\t )\n",
        "\n",
        "GROUP BY quarter;\t\t\t\t"
      ],
      "execution_count": null,
      "outputs": []
    },
    {
      "cell_type": "markdown",
      "metadata": {
        "id": "GSIJlV-NtpFt"
      },
      "source": [
        "# [Category produk apa saja yang paling banyak di-order oleh customers di Quarter-2?](https://academy.dqlab.id/main/projectcode/246/421/2108?pr=null)"
      ]
    },
    {
      "cell_type": "code",
      "metadata": {
        "id": "eTSxxyFetwFD"
      },
      "source": [
        "SELECT\n",
        "    *\n",
        "FROM\n",
        "\t(SELECT\n",
        "\t\tcategoryID,\n",
        "        COUNT(DISTINCT orderNumber) AS total_order,\n",
        "        SUM(quantity) AS total_penjualan\n",
        "\t FROM\n",
        "     \t(SELECT\n",
        " \t\t\tproductCode,\n",
        "      \t\torderNumber,\n",
        "      \t\tquantity,\n",
        "  \t\t\tstatus,\n",
        "   \t\t\tLEFT(productCode, 3) AS categoryID\n",
        "      \t\t\tFROM\n",
        "                    orders_2\n",
        "                WHERE\n",
        "                    status = \"Shipped\"\n",
        "            ) tabel_c\n",
        "        GROUP BY\n",
        "            categoryID\n",
        "    ) AS a \n",
        "ORDER BY total_order DESC;"
      ],
      "execution_count": null,
      "outputs": []
    },
    {
      "cell_type": "markdown",
      "metadata": {
        "id": "zKhq39antwsN"
      },
      "source": [
        "# [Seberapa banyak customers yang tetap aktif bertransaksi setelah transaksi pertamanya?](https://academy.dqlab.id/main/projectcode/246/421/2109)"
      ]
    },
    {
      "cell_type": "code",
      "metadata": {
        "id": "hzjPovigt8HC"
      },
      "source": [
        "#Menghitung total unik customers yang transaksi di quarter_1\n",
        "SELECT COUNT(DISTINCT customerID) as total_customers FROM orders_1;\n",
        "#output = 25\n",
        "\n",
        "\n",
        "SELECT\n",
        " \t'1' AS quarter,\n",
        "  \tCOUNT(DISTINCT customerID) * 100 / 25  AS  q2\n",
        "FROM\n",
        " \torders_1\n",
        "WHERE\n",
        " \tcustomerID IN\n",
        " \t(\n",
        "    SELECT\n",
        "     \tDISTINCT customerID\n",
        "    FROM\n",
        "     \torders_2\n",
        " );"
      ],
      "execution_count": null,
      "outputs": []
    }
  ]
}