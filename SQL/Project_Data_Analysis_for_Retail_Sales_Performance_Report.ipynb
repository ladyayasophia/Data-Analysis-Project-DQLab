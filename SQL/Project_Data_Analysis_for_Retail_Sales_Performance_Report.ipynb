{
  "nbformat": 4,
  "nbformat_minor": 0,
  "metadata": {
    "colab": {
      "name": "Project Data Analysis for Retail: Sales Performance Report.ipynb",
      "private_outputs": true,
      "provenance": []
    },
    "kernelspec": {
      "name": "python3",
      "display_name": "Python 3"
    },
    "language_info": {
      "name": "python"
    }
  },
  "cells": [
    {
      "cell_type": "markdown",
      "metadata": {
        "id": "75p9R8Cvpd4L"
      },
      "source": [
        "# [Overall Performance by Year](https://academy.dqlab.id/main/projectcode/182/358/1737?pr=0)"
      ]
    },
    {
      "cell_type": "code",
      "metadata": {
        "id": "LRA9kw_Jpcns"
      },
      "source": [
        "SELECT DISTINCT YEAR(order_date) AS years,\n",
        "       SUM(sales)AS sales,\n",
        "       COUNT(order_status) AS number_of_order\n",
        "FROM dqlab_sales_store\n",
        "WHERE order_status = 'Order Finished'\n",
        "GROUP BY 1;"
      ],
      "execution_count": null,
      "outputs": []
    },
    {
      "cell_type": "markdown",
      "metadata": {
        "id": "5g-KEG8Up6Jf"
      },
      "source": [
        "# [Overall Performance by Product Sub Category](https://academy.dqlab.id/main/projectcode/182/358/1738?pr=0)"
      ]
    },
    {
      "cell_type": "code",
      "metadata": {
        "id": "OcabkC-8qA3t"
      },
      "source": [
        "SELECT DISTINCT YEAR(order_date) AS years,\n",
        "\tproduct_sub_category,    \n",
        "\tSUM(sales)AS sales    \n",
        "FROM\n",
        " dqlab_sales_store\n",
        "WHERE\n",
        "(YEAR(order_date) BETWEEN '2011' AND '2012') AND\n",
        "order_status = 'Order Finished'\n",
        "GROUP BY\n",
        " 1,2\n",
        "ORDER BY\n",
        " 1,3 DESC ;"
      ],
      "execution_count": null,
      "outputs": []
    },
    {
      "cell_type": "markdown",
      "metadata": {
        "id": "2RYVn41jqRvl"
      },
      "source": [
        "# [Promotion Effectiveness and Efficiency by Years](https://academy.dqlab.id/main/projectcode/182/359/1758)"
      ]
    },
    {
      "cell_type": "code",
      "metadata": {
        "id": "Oxi3-cK9qZ7I"
      },
      "source": [
        "SELECT DISTINCT YEAR(order_date) AS years,\n",
        "\tSUM(sales) AS sales,\n",
        "\tSUM(discount_value) AS promotion_value,\n",
        "\tROUND(((SUM(discount_value))/(SUM(sales)))*100,2) AS burn_rate_percentage\n",
        "FROM\n",
        " dqlab_sales_store\n",
        "WHERE\n",
        "order_status = 'Order Finished'\n",
        "GROUP BY\n",
        " 1;"
      ],
      "execution_count": null,
      "outputs": []
    },
    {
      "cell_type": "markdown",
      "metadata": {
        "id": "5iP7TqE_qa04"
      },
      "source": [
        "# [Promotion Effectiveness and Efficiency by Product Sub Category](https://academy.dqlab.id/main/projectcode/182/359/1759?pr=0)"
      ]
    },
    {
      "cell_type": "code",
      "metadata": {
        "id": "MqeAhcpOqjQr"
      },
      "source": [
        "SELECT \t\t\n",
        "\tDISTINCT YEAR(order_date) AS years,\n",
        "\tproduct_sub_category , \n",
        "\tproduct_category,\n",
        "\tSUM(sales) AS sales,\n",
        "\tSUM(discount_value) AS promotion_value,\n",
        "\tROUND(((SUM(discount_value))/(SUM(sales)))*100,2) AS burn_rate_percentage\n",
        "\t\n",
        "FROM\n",
        " dqlab_sales_store\n",
        "WHERE\n",
        "\tYEAR(order_date) = '2012'\n",
        "\tAND \n",
        "\torder_status = 'Order Finished'\n",
        "\n",
        "GROUP BY\n",
        " 1,2,3\n",
        "ORDER BY 4 DESC;"
      ],
      "execution_count": null,
      "outputs": []
    },
    {
      "cell_type": "markdown",
      "metadata": {
        "id": "JhA5FVf4qkTf"
      },
      "source": [
        "# [Customers Transactions per Year](https://academy.dqlab.id/main/projectcode/182/361/1760)"
      ]
    },
    {
      "cell_type": "code",
      "metadata": {
        "id": "c10XPX5Dq4l3"
      },
      "source": [
        "SELECT \t\n",
        "\tYEAR(order_date) AS years,\n",
        "\tCOUNT(DISTINCT(customer)) AS number_of_customer\t\n",
        "\t\n",
        "FROM\n",
        " dqlab_sales_store\n",
        "WHERE\n",
        "\torder_status = 'Order Finished'\n",
        "\n",
        "GROUP BY 1\n",
        "ORDER BY 1 ;\t\t\t\t"
      ],
      "execution_count": null,
      "outputs": []
    }
  ]
}
